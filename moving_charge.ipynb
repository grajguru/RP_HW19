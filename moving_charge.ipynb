{
 "cells": [
  {
   "cell_type": "markdown",
   "metadata": {},
   "source": [
    "# Garima Rajguru HW_10"
   ]
  },
  {
   "cell_type": "code",
   "execution_count": 1,
   "metadata": {},
   "outputs": [],
   "source": [
    "import sys\n",
    "import numpy as np\n",
    "from ipywidgets import interact, interactive\n",
    "import ipywidgets as widgets\n",
    "\n",
    "!{sys.executable} -m pip install --quiet matplotlib\n",
    "\n",
    "import matplotlib.pyplot as plt"
   ]
  },
  {
   "cell_type": "markdown",
   "metadata": {},
   "source": [
    "We plot the Intensity along (+) and (-) direction:\n",
    "$$I_\\nu^{(+)}=B_\\nu [1-\\frac{1-\\sqrt{\\epsilon_\\nu}}{1+\\sqrt{\\epsilon_\\nu}}e^{-\\tau_*}]$$\n",
    "$$I_\\nu^{(-)}=B_\\nu [1-e^{-\\tau_*}]$$"
   ]
  },
  {
   "cell_type": "code",
   "execution_count": 2,
   "metadata": {},
   "outputs": [
    {
     "data": {
      "application/vnd.jupyter.widget-view+json": {
       "model_id": "f16dfa3a66a34538ae8365e96011c8a0",
       "version_major": 2,
       "version_minor": 0
      },
      "text/plain": [
       "interactive(children=(BoundedFloatText(value=0.3, description='epsilon', max=1.0, min=0.01, step=0.01), Output…"
      ]
     },
     "metadata": {},
     "output_type": "display_data"
    },
    {
     "data": {
      "text/plain": [
       "<function __main__.plot_with_slope(epsilon)>"
      ]
     },
     "execution_count": 2,
     "metadata": {},
     "output_type": "execute_result"
    }
   ],
   "source": [
    "#Intensity\n",
    "\n",
    "import numpy as np\n",
    "import matplotlib.pyplot as plt\n",
    "tau_star = np.linspace(10,0)\n",
    "#epsilon = 0.3\n",
    "def plot_with_slope(epsilon):\n",
    "    tau = tau_star / np.sqrt(3. * epsilon)\n",
    "    plt.plot(tau, 1. - ((1. - np.sqrt(epsilon))/(1. + np.sqrt(epsilon)))*np.exp(-tau),\n",
    "    label = '$I^{(+)}/B$')\n",
    "    plt.plot(tau, 1. - np.exp(-tau), label = '$I^{(-)}/B$')\n",
    "    plt.xlim([10,0])\n",
    "    plt.ylim([0,1])\n",
    "    plt.xlabel('$\\\\tau$')\n",
    "    plt.ylabel(\"Legend\")\n",
    "    plt.legend()\n",
    "    title_str = '$\\epsilon$ = ' + str(epsilon)\n",
    "    plt.title(title_str)\n",
    "    plt.show()\n",
    "\n",
    "interact(plot_with_slope, epsilon = widgets.BoundedFloatText(value=0.3, min=0.01, max = 1, step=0.01, \n",
    "                                                       descriptions='epsilon', disabled=False))"
   ]
  },
  {
   "cell_type": "markdown",
   "metadata": {},
   "source": [
    "We plot quantities related to the source, e.g. Source Function, Mean Intensity, Flux, etc.\n",
    "$$S_\\nu=B_\\nu [1-e^{-\\tau_*}]+\\sqrt{\\epsilon_\\nu} B_\\nu e^{-\\tau_*}$$\n",
    "$$J_\\nu=B_\\nu [1-\\frac{e^{-\\tau_*}}{1+\\sqrt{\\epsilon_\\nu}}]$$\n",
    "$$H_\\nu=B_\\nu \\frac{1}{\\sqrt{3}} \\frac{\\sqrt{\\epsilon_\\nu}}{1+\\sqrt{\\epsilon_\\nu}} e^{-\\tau_*}$$\n",
    "$$F_\\nu=\\frac{4\\pi}{\\sqrt{3}} \\frac{\\sqrt{\\epsilon_\\nu}}{1+\\sqrt{\\epsilon_\\nu}} e^{-\\tau_*}$$\n",
    "$$F_\\nu=F_\\nu(0) e^{-\\tau_*}$$"
   ]
  },
  {
   "cell_type": "code",
   "execution_count": 3,
   "metadata": {},
   "outputs": [
    {
     "data": {
      "application/vnd.jupyter.widget-view+json": {
       "model_id": "6b623204ad92468bbcf255f30ff240fe",
       "version_major": 2,
       "version_minor": 0
      },
      "text/plain": [
       "interactive(children=(BoundedFloatText(value=0.3, description='epsilon', max=1.0, min=0.01, step=0.01), Output…"
      ]
     },
     "metadata": {},
     "output_type": "display_data"
    },
    {
     "data": {
      "text/plain": [
       "<function __main__.plot_with_slope(epsilon)>"
      ]
     },
     "execution_count": 3,
     "metadata": {},
     "output_type": "execute_result"
    }
   ],
   "source": [
    "#Source\n",
    "\n",
    "import numpy as np\n",
    "import matplotlib.pyplot as plt\n",
    "tau_star = np.linspace(10,0)\n",
    "#epsilon = 0.3\n",
    "\n",
    "def plot_with_slope(epsilon):\n",
    "    tau = tau_star / np.sqrt(3. * epsilon)\n",
    "    plt.plot(tau , 1. - (1. - np.sqrt(epsilon))*np.exp(-tau), label = 'S/B')\n",
    "    plt.plot(tau, 1. - 1. / (1. + np.sqrt(epsilon))*np.exp(-tau), label = 'J/B')\n",
    "    plt.plot(tau, (1./np.sqrt(3.)) * (np.sqrt(epsilon)/(1.+np.sqrt(epsilon)))*np.exp(-tau), label = 'H/B')\n",
    "    plt.plot(tau, np.exp(-tau), label = 'F/F(0)')\n",
    "    plt.xlim([10,0])\n",
    "    plt.ylim([0,1])\n",
    "    plt.xlabel('$\\\\tau$')\n",
    "    plt.ylabel(\"Legend\")\n",
    "    plt.legend()\n",
    "    title_str = '$\\epsilon$ = ' + str(epsilon)\n",
    "    plt.title(title_str)\n",
    "    plt.show()\n",
    "\n",
    "interact(plot_with_slope, epsilon = widgets.BoundedFloatText(value=0.3, min=0.01, max = 1, step=0.01, \n",
    "                                                       descriptions='epsilon', disabled=False))"
   ]
  },
  {
   "cell_type": "markdown",
   "metadata": {},
   "source": [
    "## HW_11"
   ]
  },
  {
   "cell_type": "markdown",
   "metadata": {},
   "source": [
    "We plot the Intensities in 2-stream approximation for finite slab:\n",
    "\n",
    "$$I_\\nu^{(+)}=B_\\nu \\left[1-\\frac{1}{2} \\left[ \\frac{(1+\\sqrt{\\epsilon_\\nu})e^{\\tau_*}e^{-\\tau_{0*}/2}+(1-\\sqrt{\\epsilon_\\nu})e^{-\\tau_*}e^{\\tau_{0*}/2}}{\\sqrt{\\epsilon_\\nu} sinh(\\tau_{0*}/2)+cosh(\\tau_{0*}/2)} \\right] \\right]$$\n",
    "\n",
    "$$I_\\nu^{(-)}=B_\\nu \\left[1-\\frac{1}{2} \\left[ \\frac{(1-\\sqrt{\\epsilon_\\nu})e^{\\tau_*}e^{-\\tau_{0*}/2}+(1+\\sqrt{\\epsilon_\\nu})e^{-\\tau_*}e^{\\tau_{0*}/2}}{\\sqrt{\\epsilon_\\nu} sinh(\\tau_{0*}/2)+cosh(\\tau_{0*}/2)} \\right] \\right]$$"
   ]
  },
  {
   "cell_type": "code",
   "execution_count": 4,
   "metadata": {},
   "outputs": [
    {
     "data": {
      "application/vnd.jupyter.widget-view+json": {
       "model_id": "cfa2dab2e35c411a905ec85654a99332",
       "version_major": 2,
       "version_minor": 0
      },
      "text/plain": [
       "interactive(children=(BoundedFloatText(value=0.3, description='epsilon', max=1.0, min=0.01, step=0.01), Bounde…"
      ]
     },
     "metadata": {},
     "output_type": "display_data"
    },
    {
     "data": {
      "text/plain": [
       "<function __main__.plot_with_slope(epsilon, tau_star_0)>"
      ]
     },
     "execution_count": 4,
     "metadata": {},
     "output_type": "execute_result"
    }
   ],
   "source": [
    "#Intensity\n",
    "\n",
    "import numpy as np\n",
    "import matplotlib.pyplot as plt\n",
    "tau_star = np.linspace(10,0)\n",
    "tau_star_0 = 3\n",
    "#epsilon = 0.3\n",
    "def plot_with_slope(epsilon,tau_star_0):\n",
    "    tau = tau_star / np.sqrt(3. * epsilon)\n",
    "    tau_0 = tau_star_0 / np.sqrt(3. * epsilon)\n",
    "    plt.plot(tau,  1. - (0.5*(np.exp(tau)*np.exp(-tau_0/2.)*(1+np.sqrt(epsilon))+np.exp(-tau)*np.exp(tau_0/2.)\\\n",
    "                             *(1-np.sqrt(epsilon)))/(np.sqrt(epsilon)*np.sinh(tau_0/2.)+np.cosh(tau_0/2.))),\n",
    "    label = '$I^{(+)}/B$')\n",
    "    plt.plot(tau, 1. - (0.5*(np.exp(tau)*np.exp(-tau_0/2.)*(1-np.sqrt(epsilon))+np.exp(-tau)*np.exp(tau_0/2.)\\\n",
    "                             *(1+np.sqrt(epsilon)))/(np.sqrt(epsilon)*np.sinh(tau_0/2.)+np.cosh(tau_0/2.))), label = '$I^{(-)}/B$')\n",
    "    plt.xlim([10,0])\n",
    "    plt.ylim([0,1])\n",
    "    plt.xlabel('$\\\\tau$')\n",
    "    plt.ylabel(\"Legend\")\n",
    "    plt.legend()\n",
    "    title_str = '$\\epsilon$ = ' + str(epsilon)\n",
    "    plt.title(title_str)\n",
    "    plt.show()\n",
    "\n",
    "interact(plot_with_slope, epsilon = widgets.BoundedFloatText(value=0.3, min=0.01, max = 1, step=0.01, \n",
    "                                                       descriptions='epsilon', disabled=False), \n",
    "         tau_star_0 = widgets.BoundedFloatText(value=3, min=0, max = 20, step=1, \n",
    "                                                       descriptions='tau_star_0', disabled=False))"
   ]
  },
  {
   "cell_type": "markdown",
   "metadata": {},
   "source": [
    "We plot quantities related to the source, e.g. Source Function, Mean Intensity, Flux, etc. for finite slab:\n",
    "$$S_\\nu=B_\\nu \\left[1-\\frac{1-\\epsilon_\\nu}{2} \\left[ \\frac{e^{\\tau_*}e^{-\\tau_{0*}/2}+e^{-\\tau_*}e^{\\tau_{0*}/2}}{\\sqrt{\\epsilon_\\nu} sinh(\\tau_{0*}/2)+cosh(\\tau_{0*}/2)} \\right] \\right]$$\n",
    "$$J_\\nu=B_\\nu \\left[1-\\frac{1}{2} \\left[ \\frac{e^{\\tau_*}e^{-\\tau_{0*}/2}+e^{-\\tau_*}e^{\\tau_{0*}/2}}{\\sqrt{\\epsilon_\\nu} sinh(\\tau_{0*}/2)+cosh(\\tau_{0*}/2)} \\right] \\right]$$\n",
    "$$H_\\nu=B_\\nu \\frac{\\sqrt{\\epsilon_\\nu}}{2\\sqrt{3}} \\left[ \\frac{-e^{\\tau_*}e^{-\\tau_{0*}/2}+e^{-\\tau_*}e^{\\tau_{0*}/2}}{\\sqrt{\\epsilon_\\nu} sinh(\\tau_{0*}/2)+cosh(\\tau_{0*}/2)} \\right]$$\n",
    "$$F_\\nu=B_\\nu \\frac{2\\pi\\sqrt{\\epsilon_\\nu}}{\\sqrt{3}} \\left[ \\frac{-e^{\\tau_*}e^{-\\tau_{0*}/2}+e^{-\\tau_*}e^{\\tau_{0*}/2}}{\\sqrt{\\epsilon_\\nu} sinh(\\tau_{0*}/2)+cosh(\\tau_{0*}/2)} \\right]$$"
   ]
  },
  {
   "cell_type": "code",
   "execution_count": 5,
   "metadata": {},
   "outputs": [
    {
     "data": {
      "application/vnd.jupyter.widget-view+json": {
       "model_id": "0aa47c350f3748ffa4137c98381642a2",
       "version_major": 2,
       "version_minor": 0
      },
      "text/plain": [
       "interactive(children=(BoundedFloatText(value=0.3, description='epsilon', max=1.0, min=0.01, step=0.01), Bounde…"
      ]
     },
     "metadata": {},
     "output_type": "display_data"
    },
    {
     "data": {
      "text/plain": [
       "<function __main__.plot_with_slope(epsilon, tau_star_0)>"
      ]
     },
     "execution_count": 5,
     "metadata": {},
     "output_type": "execute_result"
    }
   ],
   "source": [
    "#Source\n",
    "\n",
    "import numpy as np\n",
    "import matplotlib.pyplot as plt\n",
    "tau_star = np.linspace(10,0)\n",
    "tau_star_0 = 3\n",
    "#epsilon = 0.3\n",
    "def plot_with_slope(epsilon,tau_star_0):\n",
    "    tau = tau_star / np.sqrt(3. * epsilon)\n",
    "    tau_0 = tau_star_0 / np.sqrt(3. * epsilon)\n",
    "    \n",
    "    plt.plot(tau ,   1. - (((1-epsilon)/2.0)*(np.exp(tau)*np.exp(-tau_0/2.)+np.exp(-tau)*np.exp(tau_0/2.))\\\n",
    "                         /(np.sqrt(epsilon)*np.sinh(tau_0/2.)+np.cosh(tau_0/2.))), label = 'S/B')\n",
    "    \n",
    "    plt.plot(tau,  1. - (0.5*(np.exp(tau)*np.exp(-tau_0/2.)+np.exp(-tau)*np.exp(tau_0/2.))\\\n",
    "                         /(np.sqrt(epsilon)*np.sinh(tau_0/2.)+np.cosh(tau_0/2.))), label = 'J/B')\n",
    "    \n",
    "    plt.plot(tau, (np.sqrt(epsilon)/(2*np.sqrt(3.)) * (-np.exp(tau)*np.exp(-tau_0/2.)+np.exp(-tau)*np.exp(tau_0/2.))\\\n",
    "                   /(np.sqrt(epsilon)*np.sinh(tau_0/2.)+np.cosh(tau_0/2.))), label = 'H/B')\n",
    "    \n",
    "    plt.plot(tau, ((2*np.pi*np.sqrt(epsilon))/(np.sqrt(3.)) * (-np.exp(tau)*np.exp(-tau_0/2.)+np.exp(-tau)*np.exp(tau_0/2.))\\\n",
    "                   /(np.sqrt(epsilon)*np.sinh(tau_0/2.)+np.cosh(tau_0/2.))), label = 'F/B')\n",
    "    \n",
    "    plt.xlim([10,0])\n",
    "    plt.ylim([0,1])\n",
    "    plt.xlabel('$\\\\tau$')\n",
    "    plt.ylabel(\"Legend\")\n",
    "    plt.legend()\n",
    "    title_str = '$\\epsilon$ = ' + str(epsilon)\n",
    "    plt.title(title_str)\n",
    "    plt.show()\n",
    "\n",
    "interact(plot_with_slope, epsilon = widgets.BoundedFloatText(value=0.3, min=0.01, max = 1, step=0.01, \n",
    "                                                       descriptions='epsilon', disabled=False), \n",
    "         tau_star_0 = widgets.BoundedFloatText(value=3, min=0, max = 20, step=1, \n",
    "                                                       descriptions='tau_star_0', disabled=False))"
   ]
  },
  {
   "cell_type": "code",
   "execution_count": null,
   "metadata": {},
   "outputs": [],
   "source": []
  }
 ],
 "metadata": {
  "interpreter": {
   "hash": "fd578b525fe7fcca8a3ea11350d18bcbeb29af20bd1df15f6c5fd2c9cf111483"
  },
  "kernelspec": {
   "display_name": "Python 3",
   "language": "python",
   "name": "python3"
  },
  "language_info": {
   "codemirror_mode": {
    "name": "ipython",
    "version": 3
   },
   "file_extension": ".py",
   "mimetype": "text/x-python",
   "name": "python",
   "nbconvert_exporter": "python",
   "pygments_lexer": "ipython3",
   "version": "3.8.8"
  }
 },
 "nbformat": 4,
 "nbformat_minor": 2
}
